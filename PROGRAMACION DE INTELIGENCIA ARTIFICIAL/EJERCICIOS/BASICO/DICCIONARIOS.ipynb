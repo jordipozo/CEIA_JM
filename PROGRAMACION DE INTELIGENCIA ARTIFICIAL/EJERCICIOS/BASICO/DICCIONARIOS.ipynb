{
  "nbformat": 4,
  "nbformat_minor": 0,
  "metadata": {
    "colab": {
      "provenance": []
    },
    "kernelspec": {
      "name": "python3",
      "display_name": "Python 3"
    },
    "language_info": {
      "name": "python"
    }
  },
  "cells": [
    {
      "cell_type": "markdown",
      "source": [
        "EJERCICIOS DE DICCIONARIOS"
      ],
      "metadata": {
        "id": "UFc4UYBp0PFp"
      }
    },
    {
      "cell_type": "markdown",
      "metadata": {
        "id": "_Scy7JgM0V_8"
      },
      "source": [
        "## Ejercicio 1\n",
        "\n",
        "Escribir un programa que guarde en una variable el diccionario `{'Euro':'€', 'Dollar':'$', 'Yen':'¥'}`, pregunte al usuario por una divisa y muestre su símbolo o un mensaje de aviso si la divisa no está en el diccionario."
      ]
    },
    {
      "cell_type": "markdown",
      "metadata": {
        "id": "P9YTzmG80lcB"
      },
      "source": [
        "## Ejercicio 2\n",
        "\n",
        "Escribir un programa que pregunte al usuario su nombre, edad, dirección y teléfono y lo guarde en un diccionario. Despúes debe mostrar por pantalla el mensaje `<nombre> tiene <edad> años, vive en <dirección> y su número de teléfono es <teléfono>`.\n"
      ]
    },
    {
      "cell_type": "markdown",
      "metadata": {
        "id": "7Y0W_SXy006o"
      },
      "source": [
        "## Ejercicio 3\n",
        "\n",
        "Escribir un programa que guarde en un diccionario los precios de las frutas de la tabla, pregunte al usuario por una fruta, un número de kilos y muestre por pantalla el precio de ese número de kilos de fruta. Si la fruta no está en el diccionario debe mostrar un mensaje informando de ello.\n",
        "\n",
        "| Fruta | Precio|\n",
        "|:-|:-:|\n",
        "|Plátano | 1.35 |\n",
        "|Manzana | 0.80|\n",
        "|Pera| 0.85|\n",
        "|Naranja | 0.70|\n"
      ]
    },
    {
      "cell_type": "markdown",
      "metadata": {
        "id": "7hKVYfST1OTw"
      },
      "source": [
        "## Ejercicio 4\n",
        "\n",
        "Escribir un programa que pregunte una fecha en formato `dd/mm/aaaa` y muestre por pantalla la misma fecha en formato `dd de <mes> de aaaa` donde `<mes>` es el nombre del mes."
      ]
    },
    {
      "cell_type": "markdown",
      "metadata": {
        "id": "Vlth0Sai1mB9"
      },
      "source": [
        "## Ejercicio 5\n",
        "\n",
        "Escribir un programa que pregunte una fecha en formato `dd/mm/aaaa` y muestre por pantalla la misma fecha en formato `dd de <mes> de aaaa` donde `<mes>` es el nombre del mes."
      ]
    },
    {
      "cell_type": "markdown",
      "metadata": {
        "id": "fbza8c2J2FNE"
      },
      "source": [
        "## Ejercicio 6\n",
        "\n",
        "Escribir un programa que cree un diccionario vacío y lo vaya llenado con información sobre una persona (por ejemplo nombre, edad, sexo, teléfono, correo electrónico, etc.) que se le pida al usuario. Cada vez que se añada un nuevo dato debe imprimirse el contenido del diccionario."
      ]
    },
    {
      "cell_type": "markdown",
      "metadata": {
        "id": "IwXHJssU2RyU"
      },
      "source": [
        "## Ejercicio 7\n",
        "\n",
        "Escribir un programa que cree un diccionario simulando una cesta de la compra. El programa debe preguntar el artículo y su precio y añadir el par al diccionario, hasta que el usuario decida terminar. Después se debe mostrar por pantalla la lista de la compra y el coste total, con el siguiente formato\n",
        "\n",
        "|Lista de la compra| |\n",
        "|:-|-:|\n",
        "|Artículo 1 | Precio|\n",
        "|Artículo 2 | Precio|\n",
        "|Artículo 3 | Precio|\n",
        "|...| ...|\n",
        "|Total| Coste|\n"
      ]
    },
    {
      "cell_type": "markdown",
      "metadata": {
        "id": "X2tjwPAL2dfs"
      },
      "source": [
        "## Ejercicio 8\n",
        "\n",
        "Escribir un programa que cree un diccionario de traducción español-inglés. El usuario introducirá las palabras en español e inglés separadas por dos puntos, y cada par `<palabra>:<traducción>` separados por comas. El programa debe crear un diccionario con las palabras y sus traducciones. Después pedirá una frase en español y utilizará el diccionario para traducirla palabra a palabra. Si una palabra no está en el diccionario debe dejarla sin traducir."
      ]
    },
    {
      "cell_type": "markdown",
      "metadata": {
        "id": "FPZH9sqP2nk3"
      },
      "source": [
        "## Ejercicio 9\n",
        "\n",
        "Escribir un programa que gestione las facturas pendientes de cobro de una empresa. Las facturas se almacenarán en un diccionario donde la clave de cada factura será el número de factura y el valor el coste de la factura. El programa debe preguntar al usuario si quiere añadir una nueva factura, pagar una existente o terminar. Si desea añadir una nueva factura se preguntará por el número de factura y su coste y se añadirá al diccionario. Si se desea pagar una factura se preguntará por el número de factura y se eliminará del diccionario. Después de cada operación el programa debe mostrar por pantalla la cantidad cobrada hasta el momento y la cantidad pendiente de cobro."
      ]
    },
    {
      "cell_type": "markdown",
      "metadata": {
        "id": "Al4DAQfb21Wl"
      },
      "source": [
        "## Ejercicio 10\n",
        "\n",
        "Escribir un programa que permita gestionar la base de datos de clientes de una empresa. Los clientes se guardarán en un diccionario en el que la clave de cada cliente será su NIF, y el valor será otro diccionario con los datos del cliente (nombre, dirección, teléfono, correo, preferente), donde preferente tendrá el valor `True` si se trata de un cliente preferente. El programa debe preguntar al usuario por una opción del siguiente menú: (1) Añadir cliente, (2) Eliminar cliente, (3) Mostrar cliente, (4) Listar todos los clientes, (5) Listar clientes preferentes, (6) Terminar. En función de la opción elegida el programa tendrá que hacer lo siguiente:\n",
        "\n",
        "1. Preguntar los datos del cliente, crear un diccionario con los datos y añadirlo a la base de datos.\n",
        "2. Preguntar por el NIF del cliente y eliminar sus datos de la base de datos.\n",
        "3. Preguntar por el NIF del cliente y mostrar sus datos.\n",
        "4. Mostrar lista de todos los clientes de la base datos con su NIF y nombre.\n",
        "5. Mostrar la lista de clientes preferentes de la base de datos con su NIF y nombre.\n",
        "6. Terminar el programa."
      ]
    },
    {
      "cell_type": "markdown",
      "metadata": {
        "id": "iDmto0ak3A8B"
      },
      "source": [
        "## Ejercicio 11\n",
        "\n",
        "El directorio de los clientes de una empresa está organizado en una cadena de texto como la de más abajo, donde cada línea contiene la información del nombre, email, teléfono, nif, y el descuento que se le aplica. Las líneas se separan con el carácter de cambio de línea `\\n` y la primera línea contiene los nombres de los campos con la información contenida en el directorio.\n",
        "\n",
        "```\n",
        "\"nif;nombre;email;teléfono;descuento\\n01234567L;Luis González;luisgonzalez@mail.com;656343576;12.5\\n71476342J;Macarena Ramírez;macarena@mail.com;692839321;8\\n63823376M;Juan José Martínez;juanjo@mail.com;664888233;5.2\\n98376547F;Carmen Sánchez;carmen@mail.com;667677855;15.7\"\n",
        "```\n",
        "\n",
        "Escribir un programa que genere un diccionario con la información del directorio, donde cada elemento corresponda a un cliente y tenga por clave su nif y por valor otro diccionario con el resto de la información del cliente. Los diccionarios con la información de cada cliente tendrán como claves los nombres de los campos y como valores la información de cada cliente correspondientes a los campos. Es decir, un diccionario como el siguiente\n",
        "\n",
        "```Python\n",
        "{'01234567L': {'nombre': 'Luis González', 'email': 'luisgonzalez@mail.com', 'teléfono': '656343576', 'descuento': 12.5}, '71476342J': {'nombre': 'Macarena Ramírez', 'email': 'macarena@mail.com', 'teléfono': '692839321', 'descuento': 8.0}, '63823376M': {'nombre': 'Juan José Martínez', 'email': 'juanjo@mail.com', 'teléfono': '664888233', 'descuento': 5.2}, '98376547F': {'nombre': 'Carmen Sánchez', 'email': 'carmen@mail.com', 'teléfono': '667677855', 'descuento': 15.7}}\n",
        "```"
      ]
    }
  ]
}