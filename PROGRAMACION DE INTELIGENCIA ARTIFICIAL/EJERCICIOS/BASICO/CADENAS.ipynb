{
  "nbformat": 4,
  "nbformat_minor": 0,
  "metadata": {
    "colab": {
      "provenance": []
    },
    "kernelspec": {
      "name": "python3",
      "display_name": "Python 3"
    },
    "language_info": {
      "name": "python"
    }
  },
  "cells": [
    {
      "cell_type": "markdown",
      "source": [
        "EJERCICIOS CADENAS"
      ],
      "metadata": {
        "id": "RSobxI9oKvk-"
      }
    },
    {
      "cell_type": "markdown",
      "metadata": {
        "id": "D-hYMT-LJX5J"
      },
      "source": [
        "## Ejercicio 1\n",
        "\n",
        "Escribir un programa que pregunte el nombre completo del usuario en la consola y después muestre por pantalla el nombre completo del usuario tres veces, una con todas las letras minúsculas, otra con todas las letras mayúsculas y otra solo con la primera letra del nombre y de los apellidos en mayúscula. El usuario puede introducir su nombre combinando mayúsculas y minúsculas como quiera.\n"
      ]
    },
    {
      "cell_type": "markdown",
      "metadata": {
        "id": "AWH7OBhGJfb3"
      },
      "source": [
        "## Ejercicio 2\n",
        "\n",
        "Escribir un programa que pregunte el nombre del usuario en la consola y después de que el usuario lo introduzca muestre por pantalla `<NOMBRE> tiene <n> letras`, donde `<NOMBRE>` es el nombre de usuario en mayúsculas y `<n>` es el número de letras que tienen el nombre."
      ]
    },
    {
      "source": [
        "## Ejercicio 3\n",
        "\n",
        "Los teléfonos de una empresa tienen el siguiente formato `prefijo-número-extension` donde el prefijo es el código del país `+34`, y la extensión tiene dos dígitos (por ejemplo `+34-913724710-56`). Escribir un programa que pregunte por un número de teléfono con este formato en la consola y muestre por pantalla el número de teléfono sin el prefijo y la extensión."
      ],
      "cell_type": "markdown",
      "metadata": {
        "id": "3E3iY1F3JpaJ"
      }
    },
    {
      "cell_type": "markdown",
      "metadata": {
        "id": "-rrV-f1xKAJ8"
      },
      "source": [
        "## Ejercicio 4\n",
        "\n",
        "Escribir un programa que pregunte por consola el precio de un producto en euros con dos decimales y muestre por pantalla el número de euros y el número de céntimos del precio introducido."
      ]
    },
    {
      "cell_type": "markdown",
      "metadata": {
        "id": "StyiPq7KKcCE"
      },
      "source": [
        "## Ejercicio 5\n",
        "\n",
        "Escribir un programa que pida al usuario una palabra y luego muestre por pantalla una a una las letras de la palabra introducida empezando por la última."
      ]
    }
  ]
}