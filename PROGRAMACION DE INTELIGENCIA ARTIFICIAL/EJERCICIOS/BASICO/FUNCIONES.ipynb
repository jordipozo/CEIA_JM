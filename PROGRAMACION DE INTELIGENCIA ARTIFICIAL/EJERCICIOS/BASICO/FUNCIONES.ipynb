{
  "nbformat": 4,
  "nbformat_minor": 0,
  "metadata": {
    "colab": {
      "provenance": []
    },
    "kernelspec": {
      "name": "python3",
      "display_name": "Python 3"
    },
    "language_info": {
      "name": "python"
    }
  },
  "cells": [
    {
      "cell_type": "markdown",
      "source": [
        "EJERCICIOS DE FUNCIONES"
      ],
      "metadata": {
        "id": "TyCwytbq4H7v"
      }
    },
    {
      "cell_type": "markdown",
      "metadata": {
        "id": "xHV8O8ND4NP2"
      },
      "source": [
        "## Ejercicio 1\n",
        "\n",
        "Escribir una función que muestre por pantalla el saludo `¡Hola amiga!` cada vez que se la invoque."
      ]
    },
    {
      "cell_type": "markdown",
      "metadata": {
        "id": "V27NY1zB4WC2"
      },
      "source": [
        "## Ejercicio 2\n",
        "\n",
        "Escribir una función a la que se le pase una cadena `<nombre>` y muestre por pantalla el saludo `¡hola <nombre>!`."
      ]
    },
    {
      "cell_type": "markdown",
      "metadata": {
        "id": "jUl-uGVmGcPr"
      },
      "source": [
        "## Ejercicio 3\n",
        "\n",
        "Escribir una función que reciba un número entero positivo y devuelva su factorial."
      ]
    },
    {
      "cell_type": "markdown",
      "metadata": {
        "id": "czoDc6CrGklA"
      },
      "source": [
        "## Ejercicio 4\n",
        "\n",
        "Escribir una función que calcule el total de una factura tras aplicarle el IVA. La función debe recibir la cantidad sin IVA y el porcentaje de IVA a aplicar, y devolver el total de la factura. Si se invoca la función sin pasarle el porcentaje de IVA, deberá aplicar un 21%."
      ]
    },
    {
      "cell_type": "markdown",
      "metadata": {
        "id": "0t8HKAXgGv4C"
      },
      "source": [
        "## Ejercicio 5\n",
        "\n",
        "Escribir una función que calcule el área de un círculo y otra que calcule el volumen de un cilindro usando la primera función."
      ]
    },
    {
      "cell_type": "markdown",
      "metadata": {
        "id": "GZdgRyqvG71g"
      },
      "source": [
        "## Ejercicio 6\n",
        "\n",
        "Escribir una función que reciba una muestra de números en una lista y devuelva su media, varianza y desviación típica en un diccionario."
      ]
    },
    {
      "cell_type": "markdown",
      "metadata": {
        "id": "fcRcO0q3HHEn"
      },
      "source": [
        "## Ejercicio 7\n",
        "\n",
        "Escribir una función que reciba una muestra de números en una lista y devuelva otra lista con sus cuadrados."
      ]
    },
    {
      "cell_type": "markdown",
      "metadata": {
        "id": "x2VrjgT_HWfH"
      },
      "source": [
        "## Ejercicio 8\n",
        "\n",
        "Escribir una función que reciba una muestra de números en una lista y devuelva un diccionario con su media, varianza y desviación típica."
      ]
    },
    {
      "cell_type": "markdown",
      "metadata": {
        "id": "9g_YsWQCHgHs"
      },
      "source": [
        "## Ejercicio 9\n",
        "\n",
        "Escribir una función que calcule el máximo común divisor de dos números y otra que calcule el mínimo común múltiplo."
      ]
    },
    {
      "cell_type": "markdown",
      "metadata": {
        "id": "TMZSBdp5Hr92"
      },
      "source": [
        "## Ejercicio 10\n",
        "\n",
        "Escribir una función que calcule el máximo común divisor de dos números y otra que calcule el mínimo común múltiplo."
      ]
    },
    {
      "cell_type": "markdown",
      "metadata": {
        "id": "XPTmfb5PH1Uq"
      },
      "source": [
        "## Ejercicio 11\n",
        "\n",
        "Escribir un programa que reciba una cadena de caracteres y devuelva un diccionario con cada palabra que contiene y su frecuencia.\n",
        "Escribir otra función que reciba el diccionario generado con la función anterior y devuelva una tupla con la palabra más repetida y su frecuencia."
      ]
    }
  ]
}