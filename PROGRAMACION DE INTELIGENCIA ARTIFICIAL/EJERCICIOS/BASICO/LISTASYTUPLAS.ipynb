{
  "cells": [
    {
      "cell_type": "markdown",
      "metadata": {
        "id": "Ntn4gE2ro61n"
      },
      "source": [
        "EJERCICIOS DE LISTAS Y TUPLAS\n"
      ]
    },
    {
      "cell_type": "markdown",
      "metadata": {
        "id": "UVEebt58pDMg"
      },
      "source": [
        "\n",
        "Ejercicio 1.  \n",
        "\n",
        "Escribir un programa que almacene las asignaturas de un curso (por ejemplo Matemáticas, Física, Química, Historia y Lengua) en una lista y la muestre por pantalla."
      ]
    },
    {
      "cell_type": "markdown",
      "metadata": {
        "id": "pQAEDhcJpOP2"
      },
      "source": [
        "Ejercicio 2.  \n",
        "Escribir un programa que almacene las asignaturas de un curso (por ejemplo Matemáticas, Física, Química, Historia y Lengua) en una lista y la muestre por pantalla el mensaje Yo estudio <asignatura>, donde <asignatura> es cada una de las asignaturas de la lista."
      ]
    },
    {
      "cell_type": "markdown",
      "metadata": {
        "id": "ZpAvlELJpVQR"
      },
      "source": [
        "Ejercicio 3.  \n",
        "Escribir un programa que almacene las asignaturas de un curso (por ejemplo Matemáticas, Física, Química, Historia y Lengua) en una lista, pregunte al usuario la nota que ha sacado en cada asignatura, y después las muestre por pantalla con el mensaje En <asignatura> has sacado <nota> donde <asignatura> es cada una des las asignaturas de la lista y <nota> cada una de las correspondientes notas introducidas por el usuario."
      ]
    },
    {
      "cell_type": "markdown",
      "metadata": {
        "id": "45C_ArBkpcNs"
      },
      "source": [
        "Ejercicio 4.  \n",
        "Escribir un programa que pregunte al usuario los números ganadores de la lotería primitiva, los almacene en una lista y los muestre por pantalla ordenados de menor a mayor."
      ]
    },
    {
      "cell_type": "markdown",
      "metadata": {
        "id": "_yFbeZqxplQL"
      },
      "source": [
        "Ejercicio 5.  \n",
        "Escribir un programa que almacene en una lista los números del 1 al 10 y los muestre por pantalla en orden inverso separados por comas.\n"
      ]
    },
    {
      "cell_type": "markdown",
      "metadata": {
        "id": "g6tUoLxVpkxx"
      },
      "source": [
        "\n",
        "\n",
        "Ejercicio 6.  \n",
        "Escribir un programa que almacene las asignaturas de un curso (por ejemplo Matemáticas, Física, Química, Historia y Lengua) en una lista, pregunte al usuario la nota que ha sacado en cada asignatura y elimine de la lista las asignaturas aprobadas. Al final el programa debe mostrar por pantalla las asignaturas que el usuario tiene que repetir."
      ]
    },
    {
      "cell_type": "markdown",
      "metadata": {
        "id": "b6zEe4oYpveb"
      },
      "source": [
        "\n",
        "Ejercicio 7.  \n",
        "Escribir un programa que almacene el abecedario en una lista, elimine de la lista las letras que ocupen posiciones múltiplos de 3, y muestre por pantalla la lista resultante.\n"
      ]
    },
    {
      "cell_type": "markdown",
      "metadata": {
        "id": "aKDU-B0vpyat"
      },
      "source": [
        "\n",
        "\n",
        "Ejercicio 8.  \n",
        "Escribir un programa que pida al usuario una palabra y muestre por pantalla si es un palíndromo."
      ]
    },
    {
      "cell_type": "markdown",
      "metadata": {
        "id": "gEu7_TBgp35N"
      },
      "source": [
        "\n",
        "\n",
        "Ejercicio 9.  \n",
        "Escribir un programa que pida al usuario una palabra y muestre por pantalla el número de veces que contiene cada vocal.\n"
      ]
    },
    {
      "cell_type": "markdown",
      "metadata": {
        "id": "OgC-HrOZp9tg"
      },
      "source": [
        "\n",
        "\n",
        "Ejercicio 10.  \n",
        "Escribir un programa que almacene en una lista los siguientes precios: 50, 75, 46, 22, 80, 65, 8, y muestre por pantalla el menor y el mayor de los precios.\n"
      ]
    },
    {
      "cell_type": "markdown",
      "metadata": {
        "id": "JcLPvlyKqFLz"
      },
      "source": [
        "\n",
        "Ejercicio 11.  \n",
        "Escribir un programa que almacene los vectores (1,2,3) y (-1,0,2) en dos listas y muestre por pantalla su producto escalar.\n"
      ]
    },
    {
      "cell_type": "markdown",
      "metadata": {
        "id": "0P6EQQQxqIIw"
      },
      "source": [
        "\n",
        "Ejercicio 12.  \n",
        "Escribir un programa que almacene las matrices\n",
        "\n",
        "$$\n",
        "A = \\left(\n",
        "  \\begin{array}{rrr}\n",
        "  1 & 2 & 3\\\\\n",
        "  4 & 5 & 6\n",
        "  \\end{array}\n",
        "  \\right)\n",
        "  \\quad  y\n",
        "  \\quad\n",
        "  B = \\left(\n",
        "  \\begin{array}{rr}\n",
        "  -1 & 0\\\\\n",
        "  0 & 1\\\\\n",
        "  1 & 1\n",
        "  \\end{array}\n",
        "  \\right)\n",
        "$$\n",
        "\n",
        "\n",
        "en una lista y muestre por pantalla su producto.  \n",
        "Nota: Para representar matrices mediante listas usar listas anidadas, representando cada vector fila en una lista.  \n",
        "\n",
        "Multiplicación de matrices: https://www.superprof.es/diccionario/matematicas/algebralineal/multiplicacion-matrices.html"
      ]
    },
    {
      "cell_type": "markdown",
      "metadata": {
        "id": "5hETW04Aq8tl"
      },
      "source": [
        "Ejercicio 13.  \n",
        "Escribir un programa que pregunte por una muestra de números, separados por comas, los guarde en una lista y muestre por pantalla su media y desviación típica."
      ]
    },
    {
      "cell_type": "code",
      "execution_count": null,
      "metadata": {
        "id": "Pr-QKTexp8LN"
      },
      "outputs": [],
      "source": []
    }
  ],
  "metadata": {
    "colab": {
      "provenance": []
    },
    "kernelspec": {
      "display_name": "Python 3",
      "name": "python3"
    },
    "language_info": {
      "name": "python"
    }
  },
  "nbformat": 4,
  "nbformat_minor": 0
}
